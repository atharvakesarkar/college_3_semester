{
 "cells": [
  {
   "cell_type": "code",
   "execution_count": null,
   "id": "f83fe0e1",
   "metadata": {
    "vscode": {
     "languageId": "plaintext"
    }
   },
   "outputs": [],
   "source": [
    "print(\"atharva kesarkar)\n",
    "\n",
    "for i in range"
   ]
  }
 ],
 "metadata": {
  "language_info": {
   "name": "python"
  }
 },
 "nbformat": 4,
 "nbformat_minor": 5
}
